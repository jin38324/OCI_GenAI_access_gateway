{
 "cells": [
  {
   "cell_type": "code",
   "execution_count": 23,
   "id": "f6281f30",
   "metadata": {},
   "outputs": [
    {
     "name": "stderr",
     "output_type": "stream",
     "text": [
      "2025-08-11:16:40:56,766 INFO     [ocigenai.py:116] Raw request:\n",
      "{\"messages\":[{\"name\":null,\"role\":\"user\",\"content\":[{\"type\":\"text\",\"text\":\"Hello\"}]}],\"model\":\"xai.grok-3-mini\",\"frequency_penalty\":null,\"presence_penalty\":null,\"stream\":false,\"stream_options\":null,\"temperature\":null,\"top_p\":null,\"user\":null,\"max_tokens\":2048,\"n\":1,\"tools\":null,\"tool_choice\":\"auto\"}\n",
      "2025-08-11:16:40:56,767 INFO     [ocigenai.py:121] OCI Generative AI request:\n",
      "{\"chat_request\": {\"api_format\": \"GENERIC\", \"frequency_penalty\": null, \"is_echo\": null, \"is_stream\": false, \"log_probs\": null, \"logit_bias\": null, \"max_tokens\": 2048, \"messages\": [{\"content\": [{\"text\": \"Hello\", \"type\": \"TEXT\"}], \"name\": null, \"role\": \"USER\"}], \"num_generations\": null, \"presence_penalty\": null, \"seed\": null, \"stop\": null, \"temperature\": null, \"tool_choice\": null, \"tools\": null, \"top_k\": null, \"top_p\": null}, \"compartment_id\": \"ocid1.compartment.oc1..aaaaaaaals7mmltwjf3h2dfl3aflyxqgbsguk6b73mrn4oq7ywsl5r35lhjq\", \"serving_mode\": {\"model_id\": \"xai.grok-3-mini\", \"serving_type\": \"ON_DEMAND\"}}\n"
     ]
    },
    {
     "name": "stdout",
     "output_type": "stream",
     "text": [
      "{\n",
      "  \"chat_request\": {\n",
      "    \"api_format\": \"GENERIC\",\n",
      "    \"frequency_penalty\": null,\n",
      "    \"is_echo\": null,\n",
      "    \"is_stream\": false,\n",
      "    \"log_probs\": null,\n",
      "    \"logit_bias\": null,\n",
      "    \"max_tokens\": 2048,\n",
      "    \"messages\": [\n",
      "      {\n",
      "        \"content\": [\n",
      "          {\n",
      "            \"text\": \"Hello\",\n",
      "            \"type\": \"TEXT\"\n",
      "          }\n",
      "        ],\n",
      "        \"name\": null,\n",
      "        \"role\": \"USER\"\n",
      "      }\n",
      "    ],\n",
      "    \"num_generations\": null,\n",
      "    \"presence_penalty\": null,\n",
      "    \"seed\": null,\n",
      "    \"stop\": null,\n",
      "    \"temperature\": null,\n",
      "    \"tool_choice\": null,\n",
      "    \"tools\": null,\n",
      "    \"top_k\": null,\n",
      "    \"top_p\": null\n",
      "  },\n",
      "  \"compartment_id\": \"ocid1.compartment.oc1..aaaaaaaals7mmltwjf3h2dfl3aflyxqgbsguk6b73mrn4oq7ywsl5r35lhjq\",\n",
      "  \"serving_mode\": {\n",
      "    \"model_id\": \"xai.grok-3-mini\",\n",
      "    \"serving_type\": \"ON_DEMAND\"\n",
      "  }\n",
      "}\n",
      "bodybodybodybodybodybodybodybodybodybodybodybodybodybodybodybodybodybodybodybody\n",
      "<class 'dict'> {'compartmentId': 'ocid1.compartment.oc1..aaaaaaaals7mmltwjf3h2dfl3aflyxqgbsguk6b73mrn4oq7ywsl5r35lhjq', 'servingMode': {'servingType': 'ON_DEMAND', 'modelId': 'xai.grok-3-mini'}, 'chatRequest': {'apiFormat': 'GENERIC', 'messages': [{'role': 'USER', 'content': [{'type': 'TEXT', 'text': 'Hello'}]}], 'isStream': False, 'maxTokens': 2048}}\n",
      "bodybodybodybodybodybodybodybodybodybodybodybodybodybodybodybodybodybodybodybody\n",
      "<class 'str'> {\"compartmentId\": \"ocid1.compartment.oc1..aaaaaaaals7mmltwjf3h2dfl3aflyxqgbsguk6b73mrn4oq7ywsl5r35lhjq\", \"servingMode\": {\"servingType\": \"ON_DEMAND\", \"modelId\": \"xai.grok-3-mini\"}, \"chatRequest\": {\"apiFormat\": \"GENERIC\", \"messages\": [{\"role\": \"USER\", \"content\": [{\"type\": \"TEXT\", \"text\": \"Hello\"}]}], \"isStream\": false, \"maxTokens\": 2048}}\n"
     ]
    },
    {
     "name": "stderr",
     "output_type": "stream",
     "text": [
      "2025-08-11:16:40:58,604 DEBUG    [connectionpool.py:480] https://inference.generativeai.us-chicago-1.oci.oraclecloud.com:443 \"POST /20231130/actions/chat HTTP/1.1\" 200 371\n",
      "2025-08-11:16:40:58,604 INFO     [ocigenai.py:151] OCI Generative AI response:\n",
      "\"<oci.response.Response object at 0x000002393A1D9ED0>\"\n"
     ]
    }
   ],
   "source": [
    "import sys\n",
    "from api.models.ocigenai import OCIGenAIModel, ChatRequest\n",
    "from api.schema import UserMessage, TextContent\n",
    "\n",
    "sys.path.append(\"./app\")\n",
    "\n",
    "chat_request = ChatRequest(\n",
    "    messages=[\n",
    "        UserMessage(\n",
    "            content=[TextContent(text=\"Hello\")]\n",
    "        )\n",
    "    ],\n",
    "    model=\"xai.grok-3-mini\"\n",
    "    #model=\"cohere.command-a-03-2025\"\n",
    ")\n",
    "response = OCIGenAIModel()._invoke_genai(chat_request)"
   ]
  },
  {
   "cell_type": "code",
   "execution_count": 24,
   "id": "0fa4100d",
   "metadata": {},
   "outputs": [
    {
     "data": {
      "text/plain": [
       "{'modelId': 'xai.grok-3-mini',\n",
       " 'modelVersion': '1.0.0',\n",
       " 'chatResponse': {'apiFormat': 'GENERIC',\n",
       "  'timeCreated': '2025-08-11T08:40:58.842Z',\n",
       "  'choices': [{'index': 0,\n",
       "    'message': {'role': 'ASSISTANT',\n",
       "     'content': [{'type': 'TEXT',\n",
       "       'text': \"Hello! I'm Grok, here to help with whatever's on your mind. What's up? 😊\"}]},\n",
       "    'finishReason': 'stop',\n",
       "    'logprobs': {}}],\n",
       "  'usage': {'completionTokens': 21,\n",
       "   'promptTokens': 7,\n",
       "   'totalTokens': 220,\n",
       "   'completionTokensDetails': {'acceptedPredictionTokens': 0,\n",
       "    'reasoningTokens': 192},\n",
       "   'promptTokensDetails': {'cachedTokens': 6}}}}"
      ]
     },
     "execution_count": 24,
     "metadata": {},
     "output_type": "execute_result"
    }
   ],
   "source": [
    "import json\n",
    "json.loads(response.data.content)"
   ]
  },
  {
   "cell_type": "code",
   "execution_count": 26,
   "id": "fb80f5eb",
   "metadata": {},
   "outputs": [
    {
     "name": "stdout",
     "output_type": "stream",
     "text": [
      "message_id E43F8A5C67274F03BC37EE57F85565AA/82CDF109A8F742C783A56461E1A801CA/4D71C0F025A8A9089DAFF87DFE027A8F\n",
      "model_id xai.grok-3-mini\n",
      "prompt_tokens 7\n",
      "completion_tokens 213\n",
      "total_tokens 220\n"
     ]
    }
   ],
   "source": [
    "message_id = response.request_id\n",
    "model_id = chat_request.model\n",
    "data = json.loads(response.data.content)\n",
    "prompt_tokens = data[\"chatResponse\"][\"usage\"][\"promptTokens\"]\n",
    "total_tokens = data[\"chatResponse\"][\"usage\"][\"totalTokens\"]\n",
    "completion_tokens = total_tokens - prompt_tokens\n",
    "print(\"message_id\", message_id)\n",
    "print(\"model_id\", model_id)\n",
    "print(\"prompt_tokens\", prompt_tokens)\n",
    "print(\"completion_tokens\", completion_tokens)\n",
    "print(\"total_tokens\", total_tokens)\n"
   ]
  },
  {
   "cell_type": "code",
   "execution_count": null,
   "id": "c1aef973",
   "metadata": {},
   "outputs": [],
   "source": []
  }
 ],
 "metadata": {
  "kernelspec": {
   "display_name": "Python 3",
   "language": "python",
   "name": "python3"
  },
  "language_info": {
   "codemirror_mode": {
    "name": "ipython",
    "version": 3
   },
   "file_extension": ".py",
   "mimetype": "text/x-python",
   "name": "python",
   "nbconvert_exporter": "python",
   "pygments_lexer": "ipython3",
   "version": "3.11.8"
  }
 },
 "nbformat": 4,
 "nbformat_minor": 5
}
